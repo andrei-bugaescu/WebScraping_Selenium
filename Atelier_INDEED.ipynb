{
  "nbformat": 4,
  "nbformat_minor": 0,
  "metadata": {
    "colab": {
      "name": "Atelier_INDEED.ipynb",
      "provenance": [],
      "collapsed_sections": []
    },
    "kernelspec": {
      "name": "python3",
      "display_name": "Python 3"
    },
    "language_info": {
      "name": "python"
    }
  },
  "cells": [
    {
      "cell_type": "code",
      "execution_count": null,
      "metadata": {
        "id": "5-uAzgKkoQZR"
      },
      "outputs": [],
      "source": [
        "import requests\n",
        "import pandas as pd\n",
        "from bs4 import BeautifulSoup\n",
        "import random\n",
        "import numpy as np"
      ]
    },
    {
      "cell_type": "code",
      "source": [
        "# Téléchargement du web driver de chrome (chromium) sur la machine distante\n",
        "!apt install chromium-chromedriver\n",
        "\n",
        "# librairie selenium\n",
        "!pip install selenium"
      ],
      "metadata": {
        "colab": {
          "base_uri": "https://localhost:8080/",
          "height": 1000
        },
        "id": "WTPxCU6po1Ik",
        "outputId": "9c0a4179-e42e-4a42-d606-d8acea9fbf36"
      },
      "execution_count": null,
      "outputs": [
        {
          "output_type": "stream",
          "name": "stdout",
          "text": [
            "Reading package lists... Done\n",
            "Building dependency tree       \n",
            "Reading state information... Done\n",
            "The following additional packages will be installed:\n",
            "  chromium-browser chromium-browser-l10n chromium-codecs-ffmpeg-extra\n",
            "Suggested packages:\n",
            "  webaccounts-chromium-extension unity-chromium-extension\n",
            "The following NEW packages will be installed:\n",
            "  chromium-browser chromium-browser-l10n chromium-chromedriver\n",
            "  chromium-codecs-ffmpeg-extra\n",
            "0 upgraded, 4 newly installed, 0 to remove and 37 not upgraded.\n",
            "Need to get 94.0 MB of archives.\n",
            "After this operation, 324 MB of additional disk space will be used.\n",
            "Get:1 http://archive.ubuntu.com/ubuntu bionic-updates/universe amd64 chromium-codecs-ffmpeg-extra amd64 95.0.4638.69-0ubuntu0.18.04.1 [1,135 kB]\n",
            "Get:2 http://archive.ubuntu.com/ubuntu bionic-updates/universe amd64 chromium-browser amd64 95.0.4638.69-0ubuntu0.18.04.1 [83.6 MB]\n",
            "Get:3 http://archive.ubuntu.com/ubuntu bionic-updates/universe amd64 chromium-browser-l10n all 95.0.4638.69-0ubuntu0.18.04.1 [4,249 kB]\n",
            "Get:4 http://archive.ubuntu.com/ubuntu bionic-updates/universe amd64 chromium-chromedriver amd64 95.0.4638.69-0ubuntu0.18.04.1 [4,986 kB]\n",
            "Fetched 94.0 MB in 1s (65.8 MB/s)\n",
            "Selecting previously unselected package chromium-codecs-ffmpeg-extra.\n",
            "(Reading database ... 155225 files and directories currently installed.)\n",
            "Preparing to unpack .../chromium-codecs-ffmpeg-extra_95.0.4638.69-0ubuntu0.18.04.1_amd64.deb ...\n",
            "Unpacking chromium-codecs-ffmpeg-extra (95.0.4638.69-0ubuntu0.18.04.1) ...\n",
            "Selecting previously unselected package chromium-browser.\n",
            "Preparing to unpack .../chromium-browser_95.0.4638.69-0ubuntu0.18.04.1_amd64.deb ...\n",
            "Unpacking chromium-browser (95.0.4638.69-0ubuntu0.18.04.1) ...\n",
            "Selecting previously unselected package chromium-browser-l10n.\n",
            "Preparing to unpack .../chromium-browser-l10n_95.0.4638.69-0ubuntu0.18.04.1_all.deb ...\n",
            "Unpacking chromium-browser-l10n (95.0.4638.69-0ubuntu0.18.04.1) ...\n",
            "Selecting previously unselected package chromium-chromedriver.\n",
            "Preparing to unpack .../chromium-chromedriver_95.0.4638.69-0ubuntu0.18.04.1_amd64.deb ...\n",
            "Unpacking chromium-chromedriver (95.0.4638.69-0ubuntu0.18.04.1) ...\n",
            "Setting up chromium-codecs-ffmpeg-extra (95.0.4638.69-0ubuntu0.18.04.1) ...\n",
            "Setting up chromium-browser (95.0.4638.69-0ubuntu0.18.04.1) ...\n",
            "update-alternatives: using /usr/bin/chromium-browser to provide /usr/bin/x-www-browser (x-www-browser) in auto mode\n",
            "update-alternatives: using /usr/bin/chromium-browser to provide /usr/bin/gnome-www-browser (gnome-www-browser) in auto mode\n",
            "Setting up chromium-chromedriver (95.0.4638.69-0ubuntu0.18.04.1) ...\n",
            "Setting up chromium-browser-l10n (95.0.4638.69-0ubuntu0.18.04.1) ...\n",
            "Processing triggers for man-db (2.8.3-2ubuntu0.1) ...\n",
            "Processing triggers for hicolor-icon-theme (0.17-2) ...\n",
            "Processing triggers for mime-support (3.60ubuntu1) ...\n",
            "Processing triggers for libc-bin (2.27-3ubuntu1.3) ...\n",
            "/sbin/ldconfig.real: /usr/local/lib/python3.7/dist-packages/ideep4py/lib/libmkldnn.so.0 is not a symbolic link\n",
            "\n",
            "Collecting selenium\n",
            "  Downloading selenium-4.1.0-py3-none-any.whl (958 kB)\n",
            "\u001b[K     |████████████████████████████████| 958 kB 13.8 MB/s \n",
            "\u001b[?25hCollecting urllib3[secure]~=1.26\n",
            "  Downloading urllib3-1.26.7-py2.py3-none-any.whl (138 kB)\n",
            "\u001b[K     |████████████████████████████████| 138 kB 69.1 MB/s \n",
            "\u001b[?25hCollecting trio-websocket~=0.9\n",
            "  Downloading trio_websocket-0.9.2-py3-none-any.whl (16 kB)\n",
            "Collecting trio~=0.17\n",
            "  Downloading trio-0.19.0-py3-none-any.whl (356 kB)\n",
            "\u001b[K     |████████████████████████████████| 356 kB 70.0 MB/s \n",
            "\u001b[?25hRequirement already satisfied: sortedcontainers in /usr/local/lib/python3.7/dist-packages (from trio~=0.17->selenium) (2.4.0)\n",
            "Collecting async-generator>=1.9\n",
            "  Downloading async_generator-1.10-py3-none-any.whl (18 kB)\n",
            "Collecting sniffio\n",
            "  Downloading sniffio-1.2.0-py3-none-any.whl (10 kB)\n",
            "Collecting outcome\n",
            "  Downloading outcome-1.1.0-py2.py3-none-any.whl (9.7 kB)\n",
            "Requirement already satisfied: attrs>=19.2.0 in /usr/local/lib/python3.7/dist-packages (from trio~=0.17->selenium) (21.2.0)\n",
            "Requirement already satisfied: idna in /usr/local/lib/python3.7/dist-packages (from trio~=0.17->selenium) (2.10)\n",
            "Collecting wsproto>=0.14\n",
            "  Downloading wsproto-1.0.0-py3-none-any.whl (24 kB)\n",
            "Requirement already satisfied: certifi in /usr/local/lib/python3.7/dist-packages (from urllib3[secure]~=1.26->selenium) (2021.10.8)\n",
            "Collecting pyOpenSSL>=0.14\n",
            "  Downloading pyOpenSSL-21.0.0-py2.py3-none-any.whl (55 kB)\n",
            "\u001b[K     |████████████████████████████████| 55 kB 2.6 MB/s \n",
            "\u001b[?25hCollecting cryptography>=1.3.4\n",
            "  Downloading cryptography-36.0.1-cp36-abi3-manylinux_2_24_x86_64.whl (3.6 MB)\n",
            "\u001b[K     |████████████████████████████████| 3.6 MB 69.1 MB/s \n",
            "\u001b[?25hRequirement already satisfied: cffi>=1.12 in /usr/local/lib/python3.7/dist-packages (from cryptography>=1.3.4->urllib3[secure]~=1.26->selenium) (1.15.0)\n",
            "Requirement already satisfied: pycparser in /usr/local/lib/python3.7/dist-packages (from cffi>=1.12->cryptography>=1.3.4->urllib3[secure]~=1.26->selenium) (2.21)\n",
            "Requirement already satisfied: six>=1.5.2 in /usr/local/lib/python3.7/dist-packages (from pyOpenSSL>=0.14->urllib3[secure]~=1.26->selenium) (1.15.0)\n",
            "Collecting h11<1,>=0.9.0\n",
            "  Downloading h11-0.12.0-py3-none-any.whl (54 kB)\n",
            "\u001b[K     |████████████████████████████████| 54 kB 2.8 MB/s \n",
            "\u001b[?25hInstalling collected packages: sniffio, outcome, h11, cryptography, async-generator, wsproto, urllib3, trio, pyOpenSSL, trio-websocket, selenium\n",
            "  Attempting uninstall: urllib3\n",
            "    Found existing installation: urllib3 1.24.3\n",
            "    Uninstalling urllib3-1.24.3:\n",
            "      Successfully uninstalled urllib3-1.24.3\n",
            "\u001b[31mERROR: pip's dependency resolver does not currently take into account all the packages that are installed. This behaviour is the source of the following dependency conflicts.\n",
            "requests 2.23.0 requires urllib3!=1.25.0,!=1.25.1,<1.26,>=1.21.1, but you have urllib3 1.26.7 which is incompatible.\n",
            "datascience 0.10.6 requires folium==0.2.1, but you have folium 0.8.3 which is incompatible.\u001b[0m\n",
            "Successfully installed async-generator-1.10 cryptography-36.0.1 h11-0.12.0 outcome-1.1.0 pyOpenSSL-21.0.0 selenium-4.1.0 sniffio-1.2.0 trio-0.19.0 trio-websocket-0.9.2 urllib3-1.26.7 wsproto-1.0.0\n"
          ]
        },
        {
          "output_type": "display_data",
          "data": {
            "application/vnd.colab-display-data+json": {
              "pip_warning": {
                "packages": [
                  "urllib3"
                ]
              }
            }
          },
          "metadata": {}
        }
      ]
    },
    {
      "cell_type": "code",
      "source": [
        "from selenium import webdriver\n",
        "from selenium.webdriver.common.by import By\n",
        "from selenium.webdriver.chrome.options import Options as ChromeOptions\n",
        "from time import sleep"
      ],
      "metadata": {
        "id": "pKMmNqavoxxX"
      },
      "execution_count": null,
      "outputs": []
    },
    {
      "cell_type": "code",
      "source": [
        "# paramétrage de notre web driver\n",
        "chrome_options = ChromeOptions()\n",
        "# add the argument and make the browser Headless.\n",
        "chrome_options.add_argument(\"--headless\")\n",
        "chrome_options.add_argument('--no-sandbox')\n",
        "\n",
        "driver = webdriver.Chrome(options = chrome_options)\n",
        "\n",
        "url = 'https://fr.indeed.com/jobs?q=data%20analyst%20%2C%20data%20scientist&l&start=1'\n",
        "driver.get(url)"
      ],
      "metadata": {
        "id": "8EjGUu96pGso"
      },
      "execution_count": null,
      "outputs": []
    },
    {
      "cell_type": "code",
      "source": [
        "job_cards = driver.find_elements(By.XPATH, \"//a[contains(@class, 'tapItem')]\") \n",
        "len(job_cards)"
      ],
      "metadata": {
        "colab": {
          "base_uri": "https://localhost:8080/"
        },
        "id": "ig_bZ19pI1Ll",
        "outputId": "a4e7f650-0239-4b8a-e12d-4d69f743321f"
      },
      "execution_count": null,
      "outputs": [
        {
          "output_type": "execute_result",
          "data": {
            "text/plain": [
              "15"
            ]
          },
          "metadata": {},
          "execution_count": 132
        }
      ]
    },
    {
      "cell_type": "code",
      "source": [
        "job_cards[0].find_element(By.XPATH, \"//a[contains(@class, 'tapItem')]\").get_attribute('href')"
      ],
      "metadata": {
        "colab": {
          "base_uri": "https://localhost:8080/",
          "height": 35
        },
        "id": "tqf2-CUUMvxb",
        "outputId": "7bb9f32e-d2f5-4318-ea99-abdfd8817ec8"
      },
      "execution_count": null,
      "outputs": [
        {
          "output_type": "execute_result",
          "data": {
            "application/vnd.google.colaboratory.intrinsic+json": {
              "type": "string"
            },
            "text/plain": [
              "'https://fr.indeed.com/rc/clk?jk=352d9c53b5354bb2&fccid=20f194b75d13b93b&vjs=3'"
            ]
          },
          "metadata": {},
          "execution_count": 134
        }
      ]
    },
    {
      "cell_type": "code",
      "source": [
        "job_title = job_cards[0].find_element(By.CSS_SELECTOR, 'h2').text"
      ],
      "metadata": {
        "id": "bHzCRUWSOY-v"
      },
      "execution_count": null,
      "outputs": []
    },
    {
      "cell_type": "code",
      "source": [
        "job_title"
      ],
      "metadata": {
        "colab": {
          "base_uri": "https://localhost:8080/",
          "height": 35
        },
        "id": "5yZjrC0WOi-4",
        "outputId": "1c2ad49c-1d6a-4b6a-ad0d-0ada26b6c176"
      },
      "execution_count": null,
      "outputs": [
        {
          "output_type": "execute_result",
          "data": {
            "application/vnd.google.colaboratory.intrinsic+json": {
              "type": "string"
            },
            "text/plain": [
              "'nouveau\\nData Analyst'"
            ]
          },
          "metadata": {},
          "execution_count": 144
        }
      ]
    },
    {
      "cell_type": "code",
      "source": [
        "job_company = job_cards[0].find_element(By.CLASS_NAME, 'companyName').text"
      ],
      "metadata": {
        "id": "VZh7kUTZPGad"
      },
      "execution_count": null,
      "outputs": []
    },
    {
      "cell_type": "code",
      "source": [
        "job_company"
      ],
      "metadata": {
        "colab": {
          "base_uri": "https://localhost:8080/",
          "height": 35
        },
        "id": "Kktvcwq8PMAm",
        "outputId": "f64e790a-f73d-46fa-d9f3-f103c2bc7873"
      },
      "execution_count": null,
      "outputs": [
        {
          "output_type": "execute_result",
          "data": {
            "application/vnd.google.colaboratory.intrinsic+json": {
              "type": "string"
            },
            "text/plain": [
              "'MOTOBLOUZ'"
            ]
          },
          "metadata": {},
          "execution_count": 148
        }
      ]
    },
    {
      "cell_type": "code",
      "source": [
        "job_location = job_cards[0].find_element(By.CLASS_NAME, 'companyLocation').text"
      ],
      "metadata": {
        "id": "DnDn9mGW60lI"
      },
      "execution_count": null,
      "outputs": []
    },
    {
      "cell_type": "code",
      "source": [
        "job_location"
      ],
      "metadata": {
        "colab": {
          "base_uri": "https://localhost:8080/",
          "height": 35
        },
        "id": "mKR5VjR-8IzK",
        "outputId": "387d2d7f-f31a-4b0a-b929-9036bae63056"
      },
      "execution_count": null,
      "outputs": [
        {
          "output_type": "execute_result",
          "data": {
            "application/vnd.google.colaboratory.intrinsic+json": {
              "type": "string"
            },
            "text/plain": [
              "'Carvin (62)'"
            ]
          },
          "metadata": {},
          "execution_count": 146
        }
      ]
    },
    {
      "cell_type": "code",
      "source": [
        "job_description = job_cards[0].find_element(By.CLASS_NAME, 'jobCardShelfContainer').text"
      ],
      "metadata": {
        "id": "QaiV3Heu8Tn4"
      },
      "execution_count": null,
      "outputs": []
    },
    {
      "cell_type": "code",
      "source": [
        "job_description "
      ],
      "metadata": {
        "colab": {
          "base_uri": "https://localhost:8080/",
          "height": 35
        },
        "id": "_5rAbb7c8e9A",
        "outputId": "44b34ba1-0304-4779-907f-8bbadf4caeaa"
      },
      "execution_count": null,
      "outputs": [
        {
          "output_type": "execute_result",
          "data": {
            "application/vnd.google.colaboratory.intrinsic+json": {
              "type": "string"
            },
            "text/plain": [
              "'Participer aux projets relatifs à la DATA (challenge des solutions de dataviz, contribution aux réflexions stratégiques autour de la data).\\nPosted\\nil y a 6 jours·plus...'"
            ]
          },
          "metadata": {},
          "execution_count": 141
        }
      ]
    },
    {
      "cell_type": "code",
      "source": [
        "job_link = []\n",
        "\n",
        "for job in range(len(job_cards)):\n",
        "    job_link.append(job_cards[job].find_element(By.XPATH, \"//a[contains(@class, 'tapItem')]\").get_attribute('href'))\n",
        "\n",
        "job_link"
      ],
      "metadata": {
        "colab": {
          "base_uri": "https://localhost:8080/"
        },
        "id": "OnklozaLE5dF",
        "outputId": "9c8fbeeb-b194-4d86-9cb3-1d284880418b"
      },
      "execution_count": null,
      "outputs": [
        {
          "output_type": "execute_result",
          "data": {
            "text/plain": [
              "['https://fr.indeed.com/rc/clk?jk=352d9c53b5354bb2&fccid=20f194b75d13b93b&vjs=3',\n",
              " 'https://fr.indeed.com/rc/clk?jk=352d9c53b5354bb2&fccid=20f194b75d13b93b&vjs=3',\n",
              " 'https://fr.indeed.com/rc/clk?jk=352d9c53b5354bb2&fccid=20f194b75d13b93b&vjs=3',\n",
              " 'https://fr.indeed.com/rc/clk?jk=352d9c53b5354bb2&fccid=20f194b75d13b93b&vjs=3',\n",
              " 'https://fr.indeed.com/rc/clk?jk=352d9c53b5354bb2&fccid=20f194b75d13b93b&vjs=3',\n",
              " 'https://fr.indeed.com/rc/clk?jk=352d9c53b5354bb2&fccid=20f194b75d13b93b&vjs=3',\n",
              " 'https://fr.indeed.com/rc/clk?jk=352d9c53b5354bb2&fccid=20f194b75d13b93b&vjs=3',\n",
              " 'https://fr.indeed.com/rc/clk?jk=352d9c53b5354bb2&fccid=20f194b75d13b93b&vjs=3',\n",
              " 'https://fr.indeed.com/rc/clk?jk=352d9c53b5354bb2&fccid=20f194b75d13b93b&vjs=3',\n",
              " 'https://fr.indeed.com/rc/clk?jk=352d9c53b5354bb2&fccid=20f194b75d13b93b&vjs=3',\n",
              " 'https://fr.indeed.com/rc/clk?jk=352d9c53b5354bb2&fccid=20f194b75d13b93b&vjs=3',\n",
              " 'https://fr.indeed.com/rc/clk?jk=352d9c53b5354bb2&fccid=20f194b75d13b93b&vjs=3',\n",
              " 'https://fr.indeed.com/rc/clk?jk=352d9c53b5354bb2&fccid=20f194b75d13b93b&vjs=3',\n",
              " 'https://fr.indeed.com/rc/clk?jk=352d9c53b5354bb2&fccid=20f194b75d13b93b&vjs=3',\n",
              " 'https://fr.indeed.com/rc/clk?jk=352d9c53b5354bb2&fccid=20f194b75d13b93b&vjs=3']"
            ]
          },
          "metadata": {},
          "execution_count": 137
        }
      ]
    },
    {
      "cell_type": "code",
      "source": [
        "job_title = []\n",
        "job_company = []\n",
        "job_location =[]\n",
        "job_description = []\n",
        "job_link = []\n",
        "\n",
        "\n",
        "for job in range(len(job_cards)):\n",
        "  #job_title\n",
        "    job_title.append(job_cards[job].find_element(By.CSS_SELECTOR, 'h2').text)\n",
        " #job_company                    \n",
        "    job_company.append(job_cards[job].find_element(By.CLASS_NAME, 'companyName').text)\n",
        "  #job_location\n",
        "    job_location.append(job_cards[job].find_element(By.CLASS_NAME, 'companyLocation').text)\n",
        "  #job_description\n",
        "    job_description.append(job_cards[job].find_element(By.CLASS_NAME, 'jobCardShelfContainer').text)\n",
        "  #job_link\n",
        "    job_link.append(job_cards[job].find_element(By.XPATH, \"//a[contains(@class, 'tapItem')]\").get_attribute('href'))\n",
        "\n",
        "\n",
        "print(job_title)\n",
        "print(job_company)\n",
        "print(job_location)\n",
        "print(job_description)\n",
        "print(job_link)  "
      ],
      "metadata": {
        "colab": {
          "base_uri": "https://localhost:8080/"
        },
        "id": "PyT4G_XoBH2D",
        "outputId": "26782d34-7edc-49a6-a2a9-a08a7b9b915d"
      },
      "execution_count": null,
      "outputs": [
        {
          "output_type": "stream",
          "name": "stdout",
          "text": [
            "['nouveau\\nData Analyst', 'STAGIAIRE - DATA ANALYST', 'nouveau\\nData Analyst (H/F)', 'nouveau\\nStage - BAC+4 - Data analyst (H/F)', 'nouveau\\nCDI - Data Analyst (F/H)', 'Data Analyst (H/F)', 'APPRENTI(E) / STAGIAIRE DATA ANALYST F/H', 'Data analyst (H/F)', 'Data Scientist (H/F)', 'Data Analyst - Analyse de données liées aux rencontres sport...', 'Data Analyst H/F', 'Data Analyst', 'DATA SCIENTIST SPÉCIALISÉ R', 'Data Analyst (H/F)', 'Data Scientist H/F']\n",
            "['MOTOBLOUZ', 'Generali France', 'Voyage Privé', 'Renault Group', 'TEMPO ONE', 'CGI Inc', 'InVivo', \"Tape à l'oeil\", 'Allianz France', 'AS SPORTS ANALYTICS', 'Allianz France', 'Procter & Gamble', 'Aquila Consulting', 'Volvo Group', 'Horizon BMW MINI']\n",
            "['Carvin (62)', 'Saint-Denis (93)', 'Aix-en-Provence (13)', 'Guyancourt (78)', 'Marseille (13)\\n•\\nTélétravail', 'Clermont-Ferrand (63)', 'Courbevoie (92)', 'Wasquehal (59)', 'Paris (75)\\n+ 1 lieu', 'Évry (91)\\n•\\nTélétravail', 'Courbevoie (92)', 'Paris (75)', 'La Défense (92)', 'Lyon (69)', \"Saint-Ouen-l'Aumône (95)\"]\n",
            "['Participer aux projets relatifs à la DATA (challenge des solutions de dataviz, contribution aux réflexions stratégiques autour de la data).\\nPosted\\nil y a 6 jours·plus...', 'STAGIAIRE - DATA ANALYST - H/F.\\nGenerali, l’un des leaders mondiaux de l’assurance, accompagne plus de 61 millions de clients à travers le monde.\\nPosted\\nil y a 30+ jours·plus...', \"L'univers du voyage est un terrain de jeu magique en termes de data : données clients, marketing, fournisseurs, navigation, CRM, service client...\\nPosted\\nil y a 7 jours·plus...\", 'Traduire le besoin du client et des résultats attendus en fonctionalités bussines intelligence.\\nImplementez un processus de pilotage de la performance d…\\nPosted\\nil y a 5 jours·plus...', 'Candidature facile\\nUne capacité à maitriser des processus métiers vs data et des applications statistiques,.\\nCapacité à monter en compétence dans différents environnements…\\nPosted\\nil y a 6 jours·plus...', 'Venez rejoindre nos équipes de Data Analyst.\\nVos interventions consisteront à recueillir les besoins des utilisateurs et les challenger si nécessaire.\\nPosted\\nil y a 30+ jours·plus...', 'Invivo DIGITAL Factory recrute un/une APPRENTI / STAGIAIRE DATA ANALYST(H/F) Tu recherches lagilité et le dynamisme dune start up dotée des moyens dun grand…\\nPosted\\nil y a 26 jours·plus...', 'L’utilisation de la data et le développement des capacités analytiques sont des axes majeurs du plan stratégique de TAO.\\nVous assurez une veille fonctionnelle.\\nPosted\\nil y a 26 jours·plus...', 'Réaliser des études data ou Machine Learning pour analyser de nouvelles opportunités ou répondre à des demandes métiers en interagissant directement avec les…\\nPosted\\nil y a 30+ jours·plus...', 'Candidature facile\\nAS SPORTS ANALYTICS cherche à recruter un data analyst.\\nVous êtes à l’aise avec la mise en forme des résultats et des outils adaptés à la data visualization tel…\\nPosted\\nil y a 9 jours·plus...', \"Réaliser des études clients basées sur l'utilisation des data disponibles en interne (analyse et visualisation des données) ou en open data.\\nPosted\\nil y a 30+ jours·plus...\", 'Work experience or certification in SQL, Python and/or R.\\nAbility to multitask and have either an entrepreneur or consultancy mind-set, while technically (data)…\\nPosted\\nil y a 17 jours·plus...', \"Conception d’outils d’analyse et de data-visualisation.\\nRéponses grâce à votre bagage technique (data mining et visualisation de données techniques, l'analyse.\\nPosted\\nil y a 30+ jours·plus...\", 'Apporter un support aux projets BI & Analytics pendant les phases de réalisation assurées par les data engineers, data scientists et data architects.\\nPosted\\nil y a 14 jours·plus...', 'Analyser les différences sources de données clients existantes (CDP (costumer data plateforme), SalesForce, ERP).\\nPosted\\nil y a 30+ jours·plus...']\n",
            "['https://fr.indeed.com/rc/clk?jk=352d9c53b5354bb2&fccid=20f194b75d13b93b&vjs=3', 'https://fr.indeed.com/rc/clk?jk=352d9c53b5354bb2&fccid=20f194b75d13b93b&vjs=3', 'https://fr.indeed.com/rc/clk?jk=352d9c53b5354bb2&fccid=20f194b75d13b93b&vjs=3', 'https://fr.indeed.com/rc/clk?jk=352d9c53b5354bb2&fccid=20f194b75d13b93b&vjs=3', 'https://fr.indeed.com/rc/clk?jk=352d9c53b5354bb2&fccid=20f194b75d13b93b&vjs=3', 'https://fr.indeed.com/rc/clk?jk=352d9c53b5354bb2&fccid=20f194b75d13b93b&vjs=3', 'https://fr.indeed.com/rc/clk?jk=352d9c53b5354bb2&fccid=20f194b75d13b93b&vjs=3', 'https://fr.indeed.com/rc/clk?jk=352d9c53b5354bb2&fccid=20f194b75d13b93b&vjs=3', 'https://fr.indeed.com/rc/clk?jk=352d9c53b5354bb2&fccid=20f194b75d13b93b&vjs=3', 'https://fr.indeed.com/rc/clk?jk=352d9c53b5354bb2&fccid=20f194b75d13b93b&vjs=3', 'https://fr.indeed.com/rc/clk?jk=352d9c53b5354bb2&fccid=20f194b75d13b93b&vjs=3', 'https://fr.indeed.com/rc/clk?jk=352d9c53b5354bb2&fccid=20f194b75d13b93b&vjs=3', 'https://fr.indeed.com/rc/clk?jk=352d9c53b5354bb2&fccid=20f194b75d13b93b&vjs=3', 'https://fr.indeed.com/rc/clk?jk=352d9c53b5354bb2&fccid=20f194b75d13b93b&vjs=3', 'https://fr.indeed.com/rc/clk?jk=352d9c53b5354bb2&fccid=20f194b75d13b93b&vjs=3']\n"
          ]
        }
      ]
    },
    {
      "cell_type": "code",
      "source": [
        "df = pd.DataFrame({\n",
        "    'job_title': job_title,\n",
        "    'job_company' : job_company,\n",
        "    'job_location' : job_location,\n",
        "    'job_description' : job_description,\n",
        "    'job_link': job_link\n",
        "})\n",
        "\n",
        "df"
      ],
      "metadata": {
        "colab": {
          "base_uri": "https://localhost:8080/",
          "height": 520
        },
        "id": "ncs4KjvYxUbL",
        "outputId": "0ad22e29-c904-4fc5-ba06-763b072b6c61"
      },
      "execution_count": null,
      "outputs": [
        {
          "output_type": "execute_result",
          "data": {
            "text/html": [
              "\n",
              "  <div id=\"df-7ce1cc09-570a-4a4d-ab38-979ad829e387\">\n",
              "    <div class=\"colab-df-container\">\n",
              "      <div>\n",
              "<style scoped>\n",
              "    .dataframe tbody tr th:only-of-type {\n",
              "        vertical-align: middle;\n",
              "    }\n",
              "\n",
              "    .dataframe tbody tr th {\n",
              "        vertical-align: top;\n",
              "    }\n",
              "\n",
              "    .dataframe thead th {\n",
              "        text-align: right;\n",
              "    }\n",
              "</style>\n",
              "<table border=\"1\" class=\"dataframe\">\n",
              "  <thead>\n",
              "    <tr style=\"text-align: right;\">\n",
              "      <th></th>\n",
              "      <th>job_title</th>\n",
              "      <th>job_company</th>\n",
              "      <th>job_location</th>\n",
              "      <th>job_description</th>\n",
              "      <th>job_link</th>\n",
              "    </tr>\n",
              "  </thead>\n",
              "  <tbody>\n",
              "    <tr>\n",
              "      <th>0</th>\n",
              "      <td>nouveau\\nData Analyst</td>\n",
              "      <td>MOTOBLOUZ</td>\n",
              "      <td>Carvin (62)</td>\n",
              "      <td>Participer aux projets relatifs à la DATA (cha...</td>\n",
              "      <td>https://fr.indeed.com/rc/clk?jk=352d9c53b5354b...</td>\n",
              "    </tr>\n",
              "    <tr>\n",
              "      <th>1</th>\n",
              "      <td>STAGIAIRE - DATA ANALYST</td>\n",
              "      <td>Generali France</td>\n",
              "      <td>Saint-Denis (93)</td>\n",
              "      <td>STAGIAIRE - DATA ANALYST - H/F.\\nGenerali, l’u...</td>\n",
              "      <td>https://fr.indeed.com/rc/clk?jk=352d9c53b5354b...</td>\n",
              "    </tr>\n",
              "    <tr>\n",
              "      <th>2</th>\n",
              "      <td>nouveau\\nData Analyst (H/F)</td>\n",
              "      <td>Voyage Privé</td>\n",
              "      <td>Aix-en-Provence (13)</td>\n",
              "      <td>L'univers du voyage est un terrain de jeu magi...</td>\n",
              "      <td>https://fr.indeed.com/rc/clk?jk=352d9c53b5354b...</td>\n",
              "    </tr>\n",
              "    <tr>\n",
              "      <th>3</th>\n",
              "      <td>nouveau\\nStage - BAC+4 - Data analyst (H/F)</td>\n",
              "      <td>Renault Group</td>\n",
              "      <td>Guyancourt (78)</td>\n",
              "      <td>Traduire le besoin du client et des résultats ...</td>\n",
              "      <td>https://fr.indeed.com/rc/clk?jk=352d9c53b5354b...</td>\n",
              "    </tr>\n",
              "    <tr>\n",
              "      <th>4</th>\n",
              "      <td>nouveau\\nCDI - Data Analyst (F/H)</td>\n",
              "      <td>TEMPO ONE</td>\n",
              "      <td>Marseille (13)\\n•\\nTélétravail</td>\n",
              "      <td>Candidature facile\\nUne capacité à maitriser d...</td>\n",
              "      <td>https://fr.indeed.com/rc/clk?jk=352d9c53b5354b...</td>\n",
              "    </tr>\n",
              "    <tr>\n",
              "      <th>5</th>\n",
              "      <td>Data Analyst (H/F)</td>\n",
              "      <td>CGI Inc</td>\n",
              "      <td>Clermont-Ferrand (63)</td>\n",
              "      <td>Venez rejoindre nos équipes de Data Analyst.\\n...</td>\n",
              "      <td>https://fr.indeed.com/rc/clk?jk=352d9c53b5354b...</td>\n",
              "    </tr>\n",
              "    <tr>\n",
              "      <th>6</th>\n",
              "      <td>APPRENTI(E) / STAGIAIRE DATA ANALYST F/H</td>\n",
              "      <td>InVivo</td>\n",
              "      <td>Courbevoie (92)</td>\n",
              "      <td>Invivo DIGITAL Factory recrute un/une APPRENTI...</td>\n",
              "      <td>https://fr.indeed.com/rc/clk?jk=352d9c53b5354b...</td>\n",
              "    </tr>\n",
              "    <tr>\n",
              "      <th>7</th>\n",
              "      <td>Data analyst (H/F)</td>\n",
              "      <td>Tape à l'oeil</td>\n",
              "      <td>Wasquehal (59)</td>\n",
              "      <td>L’utilisation de la data et le développement d...</td>\n",
              "      <td>https://fr.indeed.com/rc/clk?jk=352d9c53b5354b...</td>\n",
              "    </tr>\n",
              "    <tr>\n",
              "      <th>8</th>\n",
              "      <td>Data Scientist (H/F)</td>\n",
              "      <td>Allianz France</td>\n",
              "      <td>Paris (75)\\n+ 1 lieu</td>\n",
              "      <td>Réaliser des études data ou Machine Learning p...</td>\n",
              "      <td>https://fr.indeed.com/rc/clk?jk=352d9c53b5354b...</td>\n",
              "    </tr>\n",
              "    <tr>\n",
              "      <th>9</th>\n",
              "      <td>Data Analyst - Analyse de données liées aux re...</td>\n",
              "      <td>AS SPORTS ANALYTICS</td>\n",
              "      <td>Évry (91)\\n•\\nTélétravail</td>\n",
              "      <td>Candidature facile\\nAS SPORTS ANALYTICS cherch...</td>\n",
              "      <td>https://fr.indeed.com/rc/clk?jk=352d9c53b5354b...</td>\n",
              "    </tr>\n",
              "    <tr>\n",
              "      <th>10</th>\n",
              "      <td>Data Analyst H/F</td>\n",
              "      <td>Allianz France</td>\n",
              "      <td>Courbevoie (92)</td>\n",
              "      <td>Réaliser des études clients basées sur l'utili...</td>\n",
              "      <td>https://fr.indeed.com/rc/clk?jk=352d9c53b5354b...</td>\n",
              "    </tr>\n",
              "    <tr>\n",
              "      <th>11</th>\n",
              "      <td>Data Analyst</td>\n",
              "      <td>Procter &amp; Gamble</td>\n",
              "      <td>Paris (75)</td>\n",
              "      <td>Work experience or certification in SQL, Pytho...</td>\n",
              "      <td>https://fr.indeed.com/rc/clk?jk=352d9c53b5354b...</td>\n",
              "    </tr>\n",
              "    <tr>\n",
              "      <th>12</th>\n",
              "      <td>DATA SCIENTIST SPÉCIALISÉ R</td>\n",
              "      <td>Aquila Consulting</td>\n",
              "      <td>La Défense (92)</td>\n",
              "      <td>Conception d’outils d’analyse et de data-visua...</td>\n",
              "      <td>https://fr.indeed.com/rc/clk?jk=352d9c53b5354b...</td>\n",
              "    </tr>\n",
              "    <tr>\n",
              "      <th>13</th>\n",
              "      <td>Data Analyst (H/F)</td>\n",
              "      <td>Volvo Group</td>\n",
              "      <td>Lyon (69)</td>\n",
              "      <td>Apporter un support aux projets BI &amp; Analytics...</td>\n",
              "      <td>https://fr.indeed.com/rc/clk?jk=352d9c53b5354b...</td>\n",
              "    </tr>\n",
              "    <tr>\n",
              "      <th>14</th>\n",
              "      <td>Data Scientist H/F</td>\n",
              "      <td>Horizon BMW MINI</td>\n",
              "      <td>Saint-Ouen-l'Aumône (95)</td>\n",
              "      <td>Analyser les différences sources de données cl...</td>\n",
              "      <td>https://fr.indeed.com/rc/clk?jk=352d9c53b5354b...</td>\n",
              "    </tr>\n",
              "  </tbody>\n",
              "</table>\n",
              "</div>\n",
              "      <button class=\"colab-df-convert\" onclick=\"convertToInteractive('df-7ce1cc09-570a-4a4d-ab38-979ad829e387')\"\n",
              "              title=\"Convert this dataframe to an interactive table.\"\n",
              "              style=\"display:none;\">\n",
              "        \n",
              "  <svg xmlns=\"http://www.w3.org/2000/svg\" height=\"24px\"viewBox=\"0 0 24 24\"\n",
              "       width=\"24px\">\n",
              "    <path d=\"M0 0h24v24H0V0z\" fill=\"none\"/>\n",
              "    <path d=\"M18.56 5.44l.94 2.06.94-2.06 2.06-.94-2.06-.94-.94-2.06-.94 2.06-2.06.94zm-11 1L8.5 8.5l.94-2.06 2.06-.94-2.06-.94L8.5 2.5l-.94 2.06-2.06.94zm10 10l.94 2.06.94-2.06 2.06-.94-2.06-.94-.94-2.06-.94 2.06-2.06.94z\"/><path d=\"M17.41 7.96l-1.37-1.37c-.4-.4-.92-.59-1.43-.59-.52 0-1.04.2-1.43.59L10.3 9.45l-7.72 7.72c-.78.78-.78 2.05 0 2.83L4 21.41c.39.39.9.59 1.41.59.51 0 1.02-.2 1.41-.59l7.78-7.78 2.81-2.81c.8-.78.8-2.07 0-2.86zM5.41 20L4 18.59l7.72-7.72 1.47 1.35L5.41 20z\"/>\n",
              "  </svg>\n",
              "      </button>\n",
              "      \n",
              "  <style>\n",
              "    .colab-df-container {\n",
              "      display:flex;\n",
              "      flex-wrap:wrap;\n",
              "      gap: 12px;\n",
              "    }\n",
              "\n",
              "    .colab-df-convert {\n",
              "      background-color: #E8F0FE;\n",
              "      border: none;\n",
              "      border-radius: 50%;\n",
              "      cursor: pointer;\n",
              "      display: none;\n",
              "      fill: #1967D2;\n",
              "      height: 32px;\n",
              "      padding: 0 0 0 0;\n",
              "      width: 32px;\n",
              "    }\n",
              "\n",
              "    .colab-df-convert:hover {\n",
              "      background-color: #E2EBFA;\n",
              "      box-shadow: 0px 1px 2px rgba(60, 64, 67, 0.3), 0px 1px 3px 1px rgba(60, 64, 67, 0.15);\n",
              "      fill: #174EA6;\n",
              "    }\n",
              "\n",
              "    [theme=dark] .colab-df-convert {\n",
              "      background-color: #3B4455;\n",
              "      fill: #D2E3FC;\n",
              "    }\n",
              "\n",
              "    [theme=dark] .colab-df-convert:hover {\n",
              "      background-color: #434B5C;\n",
              "      box-shadow: 0px 1px 3px 1px rgba(0, 0, 0, 0.15);\n",
              "      filter: drop-shadow(0px 1px 2px rgba(0, 0, 0, 0.3));\n",
              "      fill: #FFFFFF;\n",
              "    }\n",
              "  </style>\n",
              "\n",
              "      <script>\n",
              "        const buttonEl =\n",
              "          document.querySelector('#df-7ce1cc09-570a-4a4d-ab38-979ad829e387 button.colab-df-convert');\n",
              "        buttonEl.style.display =\n",
              "          google.colab.kernel.accessAllowed ? 'block' : 'none';\n",
              "\n",
              "        async function convertToInteractive(key) {\n",
              "          const element = document.querySelector('#df-7ce1cc09-570a-4a4d-ab38-979ad829e387');\n",
              "          const dataTable =\n",
              "            await google.colab.kernel.invokeFunction('convertToInteractive',\n",
              "                                                     [key], {});\n",
              "          if (!dataTable) return;\n",
              "\n",
              "          const docLinkHtml = 'Like what you see? Visit the ' +\n",
              "            '<a target=\"_blank\" href=https://colab.research.google.com/notebooks/data_table.ipynb>data table notebook</a>'\n",
              "            + ' to learn more about interactive tables.';\n",
              "          element.innerHTML = '';\n",
              "          dataTable['output_type'] = 'display_data';\n",
              "          await google.colab.output.renderOutput(dataTable, element);\n",
              "          const docLink = document.createElement('div');\n",
              "          docLink.innerHTML = docLinkHtml;\n",
              "          element.appendChild(docLink);\n",
              "        }\n",
              "      </script>\n",
              "    </div>\n",
              "  </div>\n",
              "  "
            ],
            "text/plain": [
              "                                            job_title  ...                                           job_link\n",
              "0                               nouveau\\nData Analyst  ...  https://fr.indeed.com/rc/clk?jk=352d9c53b5354b...\n",
              "1                            STAGIAIRE - DATA ANALYST  ...  https://fr.indeed.com/rc/clk?jk=352d9c53b5354b...\n",
              "2                         nouveau\\nData Analyst (H/F)  ...  https://fr.indeed.com/rc/clk?jk=352d9c53b5354b...\n",
              "3         nouveau\\nStage - BAC+4 - Data analyst (H/F)  ...  https://fr.indeed.com/rc/clk?jk=352d9c53b5354b...\n",
              "4                   nouveau\\nCDI - Data Analyst (F/H)  ...  https://fr.indeed.com/rc/clk?jk=352d9c53b5354b...\n",
              "5                                  Data Analyst (H/F)  ...  https://fr.indeed.com/rc/clk?jk=352d9c53b5354b...\n",
              "6            APPRENTI(E) / STAGIAIRE DATA ANALYST F/H  ...  https://fr.indeed.com/rc/clk?jk=352d9c53b5354b...\n",
              "7                                  Data analyst (H/F)  ...  https://fr.indeed.com/rc/clk?jk=352d9c53b5354b...\n",
              "8                                Data Scientist (H/F)  ...  https://fr.indeed.com/rc/clk?jk=352d9c53b5354b...\n",
              "9   Data Analyst - Analyse de données liées aux re...  ...  https://fr.indeed.com/rc/clk?jk=352d9c53b5354b...\n",
              "10                                   Data Analyst H/F  ...  https://fr.indeed.com/rc/clk?jk=352d9c53b5354b...\n",
              "11                                       Data Analyst  ...  https://fr.indeed.com/rc/clk?jk=352d9c53b5354b...\n",
              "12                        DATA SCIENTIST SPÉCIALISÉ R  ...  https://fr.indeed.com/rc/clk?jk=352d9c53b5354b...\n",
              "13                                 Data Analyst (H/F)  ...  https://fr.indeed.com/rc/clk?jk=352d9c53b5354b...\n",
              "14                                 Data Scientist H/F  ...  https://fr.indeed.com/rc/clk?jk=352d9c53b5354b...\n",
              "\n",
              "[15 rows x 5 columns]"
            ]
          },
          "metadata": {},
          "execution_count": 152
        }
      ]
    }
  ]
}